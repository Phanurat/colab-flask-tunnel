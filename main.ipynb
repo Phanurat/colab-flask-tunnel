{
 "cells": [
  {
   "cell_type": "code",
   "execution_count": null,
   "id": "ec670bf5",
   "metadata": {
    "vscode": {
     "languageId": "plaintext"
    }
   },
   "outputs": [],
   "source": [
    "!wget https://github.com/cloudflare/cloudflared/releases/latest/download/cloudflared-linux-amd64.deb\n"
   ]
  },
  {
   "cell_type": "code",
   "execution_count": null,
   "id": "62b361f4",
   "metadata": {
    "vscode": {
     "languageId": "plaintext"
    }
   },
   "outputs": [],
   "source": [
    "!dpkg -i cloudflared-linux-amd64.deb"
   ]
  },
  {
   "cell_type": "code",
   "execution_count": null,
   "id": "40e84b8f",
   "metadata": {
    "vscode": {
     "languageId": "plaintext"
    }
   },
   "outputs": [],
   "source": [
    "from flask import Flask\n",
    "import threading\n",
    "\n",
    "app = Flask(__name__)\n",
    "\n",
    "@app.route(\"/\")\n",
    "def home():\n",
    "    return \"Hello from Flask!\"\n",
    "\n",
    "# ฟังก์ชันรัน Flask\n",
    "def run_flask():\n",
    "    port = 5000\n",
    "    print(f\"Server running at http://localhost:{port}\")\n",
    "    app.run(host=\"0.0.0.0\", port=port)\n",
    "\n",
    "# สร้าง thread แยกรัน Flask\n",
    "threading.Thread(target=run_flask).start()\n"
   ]
  },
  {
   "cell_type": "code",
   "execution_count": null,
   "id": "fa8e3a64",
   "metadata": {
    "vscode": {
     "languageId": "plaintext"
    }
   },
   "outputs": [],
   "source": [
    "!cloudflared tunnel --url http://localhost:5000"
   ]
  }
 ],
 "metadata": {
  "language_info": {
   "name": "python"
  }
 },
 "nbformat": 4,
 "nbformat_minor": 5
}
